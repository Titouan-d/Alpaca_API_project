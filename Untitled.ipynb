{
 "cells": [
  {
   "cell_type": "code",
   "execution_count": 3,
   "metadata": {},
   "outputs": [],
   "source": [
    "import requests\n",
    "import json\n",
    "from datetime import datetime,timedelta\n",
    "import pandas as pd\n",
    "import sys\n",
    "import string as st\n",
    "path1 = './'\n",
    "sys.path.append(path1)\n",
    "import api_alpaca as api\n",
    "from config import *\n",
    "import trade_test as tt\n",
    "from mail import sendmail\n",
    "import portfolio as po \n",
    "from Strategie import strategie\n",
    "import numpy as np"
   ]
  },
  {
   "cell_type": "markdown",
   "metadata": {},
   "source": [
    "+ We connect to the api\n",
    "+ Then we get our portfolio object called \"mon_portefeuille\"\n",
    "+ Then we get the name of the stocks we are already engaged in"
   ]
  },
  {
   "cell_type": "code",
   "execution_count": 4,
   "metadata": {},
   "outputs": [
    {
     "name": "stdout",
     "output_type": "stream",
     "text": [
      ",TSLA,NVDA,MSFT,GOOG,EA,ADSK,AAPL\n"
     ]
    }
   ],
   "source": [
    "r = api.get_account()\n",
    "mon_portefeuille = po.portfolio()\n",
    "mon_portefeuille.names()\n",
    "STOCKS_LIST = mon_portefeuille.stocks_names #We have to convert it in on estring for the API\n",
    "STOCKS = ''\n",
    "for i in STOCKS_LIST:\n",
    "    STOCKS += f',{i}' \n",
    "print(STOCKS)"
   ]
  },
  {
   "cell_type": "markdown",
   "metadata": {},
   "source": [
    "+ We set our closing hours to know when to close postions\n",
    "+ I set my hours to be aligned with the NY hours\n",
    "+ Then we apply our algorithm on our data"
   ]
  },
  {
   "cell_type": "code",
   "execution_count": 13,
   "metadata": {},
   "outputs": [
    {
     "name": "stdout",
     "output_type": "stream",
     "text": [
      "Closing Hour NY  2021-06-04 16:00:00\n"
     ]
    }
   ],
   "source": [
    "heure_limite = datetime.today()\n",
    "#Heure de fin de marché NASDAQ\n",
    "heure_limite = heure_limite.replace(hour = 16, minute = 00, second = 00,microsecond =0)\n",
    "heure_actuelle_PARIS = datetime.today()\n",
    "heure_actuelle = heure_actuelle_PARIS - timedelta(hours = 6)\n",
    "print(\"Closing Hour NY \",heure_limite)"
   ]
  },
  {
   "cell_type": "code",
   "execution_count": 14,
   "metadata": {},
   "outputs": [
    {
     "name": "stdout",
     "output_type": "stream",
     "text": [
      "///////  ORDER SUMMARY ON AAPL ///////\n",
      "\n",
      "DATEHOUR\n",
      "2021-06-03 13:58:00    0\n",
      "2021-06-03 13:59:00    0\n",
      "2021-06-03 14:04:00    0\n",
      "2021-06-03 14:07:00    0\n",
      "2021-06-03 14:52:00    0\n",
      "Name: ORDER_TYPE, dtype: int64\n",
      "///////  ORDER SUMMARY ON ADSK ///////\n",
      "\n",
      "DATEHOUR\n",
      "2021-06-03 13:55:00    0\n",
      "2021-06-03 13:56:00    0\n",
      "2021-06-03 13:57:00    0\n",
      "2021-06-03 13:58:00    0\n",
      "2021-06-03 13:59:00    0\n",
      "Name: ORDER_TYPE, dtype: int64\n",
      "///////  ORDER SUMMARY ON EA ///////\n",
      "\n",
      "DATEHOUR\n",
      "2021-06-03 13:55:00    1\n",
      "2021-06-03 13:56:00    1\n",
      "2021-06-03 13:57:00    0\n",
      "2021-06-03 13:58:00    0\n",
      "2021-06-03 13:59:00    0\n",
      "Name: ORDER_TYPE, dtype: int64\n",
      "///////  ORDER SUMMARY ON GOOG ///////\n",
      "\n",
      "DATEHOUR\n",
      "2021-06-03 13:55:00    0\n",
      "2021-06-03 13:56:00    1\n",
      "2021-06-03 13:57:00    0\n",
      "2021-06-03 13:58:00    1\n",
      "2021-06-03 13:59:00    1\n",
      "Name: ORDER_TYPE, dtype: int64\n",
      "///////  ORDER SUMMARY ON MSFT ///////\n",
      "\n",
      "DATEHOUR\n",
      "2021-06-03 13:57:00    1\n",
      "2021-06-03 13:58:00    1\n",
      "2021-06-03 13:59:00    0\n",
      "2021-06-03 14:21:00    0\n",
      "2021-06-03 14:28:00    0\n",
      "Name: ORDER_TYPE, dtype: int64\n",
      "///////  ORDER SUMMARY ON NVDA ///////\n",
      "\n",
      "DATEHOUR\n",
      "2021-06-03 13:55:00    0\n",
      "2021-06-03 13:56:00    0\n",
      "2021-06-03 13:57:00    0\n",
      "2021-06-03 13:58:00    0\n",
      "2021-06-03 13:59:00    0\n",
      "Name: ORDER_TYPE, dtype: int64\n",
      "///////  ORDER SUMMARY ON TSLA ///////\n",
      "\n",
      "DATEHOUR\n",
      "2021-06-03 13:55:00    0\n",
      "2021-06-03 13:56:00    0\n",
      "2021-06-03 13:57:00    0\n",
      "2021-06-03 13:58:00    0\n",
      "2021-06-03 13:59:00    0\n",
      "Name: ORDER_TYPE, dtype: int64\n"
     ]
    }
   ],
   "source": [
    "DELTA = 30 # Maximum delay authorized to realise an order\n",
    "DUREE = 300 #Lenght of the data for the prediction\n",
    "QTY = 1\n",
    "\n",
    "tout_stock = tt.get_data(STOCKS,DUREE) #Dictionary of different stocks dataframe \n",
    "for key in tout_stock.keys():\n",
    "        STOCK = key\n",
    "        \n",
    "        donnee = tout_stock.get(STOCK)\n",
    "        if (len(donnee) < 3 ): \n",
    "            break\n",
    "       \n",
    "        auj = donnee['DATE'] >= donnee['DATE'].tail(1).iloc[0]\n",
    "        ourdata = donnee[auj]\n",
    "        heure_fin = donnee['HOUR'].tail(1).iloc[0]               \n",
    "        date_fin = donnee['DATE'].tail(1).iloc[0]\n",
    "        date_debut = tt.Check_condition(date_fin)\n",
    "                    \n",
    "        \n",
    "                \n",
    "        analyse = strategie(donnee)  #Here Is the algorithm returning the SELL and BUY order\n",
    "        analyse.set_index(donnee.index)\n",
    "             \n",
    "        print(f\"///////  ORDER SUMMARY ON {STOCK} ///////\\n\")\n",
    "        print(analyse.tail()['ORDER_TYPE'])\n",
    "        last = analyse.tail()"
   ]
  },
  {
   "cell_type": "code",
   "execution_count": 19,
   "metadata": {},
   "outputs": [
    {
     "name": "stdout",
     "output_type": "stream",
     "text": [
      "NO ORDER SENT FOR TSLA\n",
      "NO ORDER SENT FOR TSLA\n",
      "NO ORDER SENT FOR TSLA\n",
      "NO ORDER SENT FOR TSLA\n",
      "NO ORDER SENT FOR TSLA\n"
     ]
    }
   ],
   "source": [
    "COUNT_SELL = 0\n",
    "COUNT_BUY = 0\n",
    "            \n",
    "for ei in last.index:\n",
    "               \n",
    "    if (abs((ei-heure_actuelle))<timedelta(minutes = DELTA)):                   \n",
    "        subject_ = f\"Achat et Vente sur {STOCK} a \"+ str(heure_actuelle)\n",
    "        msg = ''\n",
    "        if (last.loc[ei,'ORDRE_TYPE'] == 'SELL'):\n",
    "            response = api.create_order(STOCK,QTY,\"sell\",\"market\",\"day\") \n",
    "            COUNT_SELL += 1*QTY\n",
    "            COUNT_BUY -= 1*QTY\n",
    "            msg += str(response)\n",
    "                        \n",
    "        \n",
    "        if (last.loc[ei,'ORDRE_TYPE'] == 'BUY'):\n",
    "            response = api.create_order(STOCK,QTY,\"buy\",\"market\",\"day\") \n",
    "            COUNT_BUY += 1*QTY\n",
    "            COUNT_SELL -= 1*QTY\n",
    "            msg += str(response)\n",
    "                        \n",
    "        sendmail(msg,subject_)\n",
    "    else : \n",
    "        print(f\"NO ORDER SENT FOR {STOCK}\")"
   ]
  },
  {
   "cell_type": "code",
   "execution_count": null,
   "metadata": {},
   "outputs": [],
   "source": []
  },
  {
   "cell_type": "code",
   "execution_count": null,
   "metadata": {},
   "outputs": [],
   "source": []
  },
  {
   "cell_type": "code",
   "execution_count": null,
   "metadata": {},
   "outputs": [],
   "source": []
  },
  {
   "cell_type": "code",
   "execution_count": null,
   "metadata": {},
   "outputs": [],
   "source": []
  },
  {
   "cell_type": "code",
   "execution_count": null,
   "metadata": {},
   "outputs": [],
   "source": []
  },
  {
   "cell_type": "code",
   "execution_count": null,
   "metadata": {},
   "outputs": [],
   "source": []
  },
  {
   "cell_type": "code",
   "execution_count": null,
   "metadata": {},
   "outputs": [],
   "source": []
  },
  {
   "cell_type": "code",
   "execution_count": null,
   "metadata": {},
   "outputs": [],
   "source": []
  }
 ],
 "metadata": {
  "kernelspec": {
   "display_name": "Python 3",
   "language": "python",
   "name": "python3"
  },
  "language_info": {
   "codemirror_mode": {
    "name": "ipython",
    "version": 3
   },
   "file_extension": ".py",
   "mimetype": "text/x-python",
   "name": "python",
   "nbconvert_exporter": "python",
   "pygments_lexer": "ipython3",
   "version": "3.7.6"
  }
 },
 "nbformat": 4,
 "nbformat_minor": 4
}
